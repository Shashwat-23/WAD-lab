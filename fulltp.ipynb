{
  "nbformat": 4,
  "nbformat_minor": 0,
  "metadata": {
    "colab": {
      "provenance": [],
      "authorship_tag": "ABX9TyPO9NGJfQThTS9F4oLxtyF/",
      "include_colab_link": true
    },
    "kernelspec": {
      "name": "python3",
      "display_name": "Python 3"
    },
    "language_info": {
      "name": "python"
    }
  },
  "cells": [
    {
      "cell_type": "markdown",
      "metadata": {
        "id": "view-in-github",
        "colab_type": "text"
      },
      "source": [
        "<a href=\"https://colab.research.google.com/github/Shashwat-23/WAD-lab/blob/main/fulltp.ipynb\" target=\"_parent\"><img src=\"https://colab.research.google.com/assets/colab-badge.svg\" alt=\"Open In Colab\"/></a>"
      ]
    },
    {
      "cell_type": "code",
      "execution_count": 1,
      "metadata": {
        "colab": {
          "base_uri": "https://localhost:8080/"
        },
        "id": "sZ5PzpKRkQgC",
        "outputId": "9f27c003-6df2-4267-e48d-917d65bf7b75"
      },
      "outputs": [
        {
          "name": "stdout",
          "output_type": "stream",
          "text": [
            "6,5,4,3,2,1\n"
          ]
        }
      ],
      "source": [
        "a=eval(input())"
      ]
    },
    {
      "cell_type": "code",
      "source": [
        "b=list(a)"
      ],
      "metadata": {
        "id": "k1cFsjybkU8L"
      },
      "execution_count": 2,
      "outputs": []
    },
    {
      "cell_type": "code",
      "source": [
        "sum_1,sum_2=0,0"
      ],
      "metadata": {
        "id": "qETS-L1almu4"
      },
      "execution_count": 4,
      "outputs": []
    },
    {
      "cell_type": "code",
      "source": [
        "sum_2"
      ],
      "metadata": {
        "colab": {
          "base_uri": "https://localhost:8080/"
        },
        "id": "EH2MRfiOluow",
        "outputId": "132dc4ff-684a-4926-a344-e69bf2b1c263"
      },
      "execution_count": 5,
      "outputs": [
        {
          "output_type": "execute_result",
          "data": {
            "text/plain": [
              "0"
            ]
          },
          "metadata": {},
          "execution_count": 5
        }
      ]
    },
    {
      "cell_type": "code",
      "source": [
        "for i in b:\n",
        "  if ((b.index(i))%2==0):\n",
        "\n",
        "    sum_1=sum_1 + i\n",
        "  elif((b.index(i))%2!=0):\n",
        "    sum_2=sum_2 + i\n",
        "\n",
        "    \n"
      ],
      "metadata": {
        "id": "3g9Fu8X0kgwi"
      },
      "execution_count": 6,
      "outputs": []
    },
    {
      "cell_type": "code",
      "source": [
        "print(sum_1,sum_2)"
      ],
      "metadata": {
        "colab": {
          "base_uri": "https://localhost:8080/"
        },
        "id": "ttPrHCgskkN4",
        "outputId": "ef8bea49-f7aa-4a0b-acd6-16712f41eab4"
      },
      "execution_count": 7,
      "outputs": [
        {
          "output_type": "stream",
          "name": "stdout",
          "text": [
            "12 9\n"
          ]
        }
      ]
    },
    {
      "cell_type": "code",
      "source": [
        "print(sum_1-sum_2)"
      ],
      "metadata": {
        "colab": {
          "base_uri": "https://localhost:8080/"
        },
        "id": "HEk6YXcWmRi0",
        "outputId": "0edfcc25-2b08-44fd-e14c-4955a386100a"
      },
      "execution_count": 8,
      "outputs": [
        {
          "output_type": "stream",
          "name": "stdout",
          "text": [
            "3\n"
          ]
        }
      ]
    },
    {
      "cell_type": "code",
      "source": [],
      "metadata": {
        "id": "O5zw2qzomeOf"
      },
      "execution_count": null,
      "outputs": []
    }
  ]
}